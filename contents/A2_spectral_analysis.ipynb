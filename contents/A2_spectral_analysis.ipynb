{
 "cells": [
  {
   "cell_type": "markdown",
   "id": "018a37e3-ef04-4bc0-a74f-e1f6b3594946",
   "metadata": {},
   "source": [
    "# A.2 Spectral Analysis"
   ]
  },
  {
   "cell_type": "code",
   "execution_count": null,
   "id": "06117775-0679-403e-baf1-fe72a962cd4a",
   "metadata": {},
   "outputs": [],
   "source": []
  }
 ],
 "metadata": {
  "kernelspec": {
   "display_name": "Python 3 (ipykernel)",
   "language": "python",
   "name": "python3"
  },
  "language_info": {
   "codemirror_mode": {
    "name": "ipython",
    "version": 3
   },
   "file_extension": ".py",
   "mimetype": "text/x-python",
   "name": "python",
   "nbconvert_exporter": "python",
   "pygments_lexer": "ipython3",
   "version": "3.7.11"
  }
 },
 "nbformat": 4,
 "nbformat_minor": 5
}
