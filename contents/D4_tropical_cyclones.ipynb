{
 "cells": [
  {
   "cell_type": "markdown",
   "id": "33b197d6-8fc4-4304-8309-ac9e5188592a",
   "metadata": {},
   "source": [
    "# D.4 Tropical Cyclones"
   ]
  },
  {
   "cell_type": "code",
   "execution_count": null,
   "id": "5dda299a-00de-46ec-8f76-5fbdfab4073a",
   "metadata": {},
   "outputs": [],
   "source": []
  }
 ],
 "metadata": {
  "kernelspec": {
   "display_name": "Python 3 (ipykernel)",
   "language": "python",
   "name": "python3"
  },
  "language_info": {
   "codemirror_mode": {
    "name": "ipython",
    "version": 3
   },
   "file_extension": ".py",
   "mimetype": "text/x-python",
   "name": "python",
   "nbconvert_exporter": "python",
   "pygments_lexer": "ipython3",
   "version": "3.7.11"
  }
 },
 "nbformat": 4,
 "nbformat_minor": 5
}
