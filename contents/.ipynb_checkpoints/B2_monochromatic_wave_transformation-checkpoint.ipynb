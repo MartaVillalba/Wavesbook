{
 "cells": [
  {
   "cell_type": "markdown",
   "id": "4089e01b-71b7-4cac-a2fe-44dca6cfc4d2",
   "metadata": {},
   "source": [
    "# B.2 Monochromatic Wave Transformation"
   ]
  },
  {
   "cell_type": "code",
   "execution_count": null,
   "id": "1c4c01df-bfaf-498d-8302-94bf266714ce",
   "metadata": {},
   "outputs": [],
   "source": []
  }
 ],
 "metadata": {
  "kernelspec": {
   "display_name": "Python 3 (ipykernel)",
   "language": "python",
   "name": "python3"
  },
  "language_info": {
   "codemirror_mode": {
    "name": "ipython",
    "version": 3
   },
   "file_extension": ".py",
   "mimetype": "text/x-python",
   "name": "python",
   "nbconvert_exporter": "python",
   "pygments_lexer": "ipython3",
   "version": "3.7.11"
  }
 },
 "nbformat": 4,
 "nbformat_minor": 5
}
