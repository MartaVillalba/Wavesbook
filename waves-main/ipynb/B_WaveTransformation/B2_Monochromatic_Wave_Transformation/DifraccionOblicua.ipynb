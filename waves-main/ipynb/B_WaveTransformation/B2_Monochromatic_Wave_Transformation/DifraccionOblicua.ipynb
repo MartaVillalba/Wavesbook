{
 "cells": [
  {
   "cell_type": "markdown",
   "id": "70047a8d",
   "metadata": {
    "slideshow": {
     "slide_type": "slide"
    }
   },
   "source": [
    "# Ecuación de la Difracción Oblicua\n",
    "\n",
    "En este notebook se va a abordar el problema de la Difracción Oblicua, dónde se calcularán los coeficientes de difracción en una zona de sombra que alberga un dique."
   ]
  },
  {
   "cell_type": "markdown",
   "id": "abfe0a19",
   "metadata": {
    "slideshow": {
     "slide_type": "subslide"
    }
   },
   "source": [
    "A partir de una demostración que puede consultarse en la referencia, Penney y Price (1952) obtuvieron una solución en polares para el coeficiente de difracción tal que:\n",
    "\n",
    "$$\n",
    "K_d = \\left | I\\left ( -\\sqrt{\\frac{4kr}{\\pi}}\\sin \\frac{\\alpha -\\theta}{2}e^{-ikr\\cos\\left ( \\alpha-\\theta \\right )} \\right ) + I\\left ( -\\sqrt{\\frac{4kr}{\\pi}}\\sin \\frac{\\alpha +\\theta}{2}e^{-ikr\\cos\\left ( \\alpha+\\theta \\right )} \\right ) \\right |\n",
    "$$"
   ]
  },
  {
   "cell_type": "markdown",
   "id": "311fc9f2",
   "metadata": {
    "slideshow": {
     "slide_type": "subslide"
    }
   },
   "source": [
    "dónde \n",
    "\n",
    "$$\n",
    "I(\\lambda)=\\frac{1+C(\\lambda)+S(\\lambda)}{2}+i\\frac{C(\\lambda)-S(\\lambda)}{2}\n",
    "$$\n",
    "\n",
    "y $C(\\lambda)$ y $S(\\lambda)$ son las integrales de Fresnel definidas como:\n",
    "\n",
    "$$\n",
    "C(\\lambda)=\\int_{0}^{\\lambda}\\cos\\frac{\\pi\\lambda^2}{2}d\\lambda \\qquad S(\\lambda)=\\int_{0}^{\\lambda}\\sin\\frac{\\pi\\lambda^2}{2}d\\lambda\n",
    "$$"
   ]
  },
  {
   "cell_type": "markdown",
   "id": "60040fd9",
   "metadata": {
    "slideshow": {
     "slide_type": "slide"
    }
   },
   "source": [
    "## Importamos las librerías necesarias"
   ]
  },
  {
   "cell_type": "code",
   "execution_count": null,
   "id": "a75a97bd-ec4d-4f6a-860a-f0f0c7aa39d1",
   "metadata": {},
   "outputs": [],
   "source": [
    "import warnings\n",
    "warnings.filterwarnings(\"ignore\")"
   ]
  },
  {
   "cell_type": "code",
   "execution_count": 3,
   "id": "45cdbf22",
   "metadata": {
    "slideshow": {
     "slide_type": "fragment"
    }
   },
   "outputs": [],
   "source": [
    "# import maths\n",
    "import os\n",
    "import os.path as op\n",
    "import sys\n",
    "\n",
    "# arrays\n",
    "import numpy as np\n",
    "import xarray as xr\n",
    "from sympy import *\n",
    "\n",
    "# import matplotlib\n",
    "import matplotlib\n",
    "import matplotlib.pyplot as plt\n",
    "from matplotlib.animation import FuncAnimation\n",
    "import plotly.graph_objects as go\n",
    "import plotly.io as pio\n",
    "pio.renderers.default = 'iframe_connected'\n",
    "\n",
    "from IPython.display import HTML # diplay anim\n",
    "matplotlib.rcParams['animation.embed_limit'] = 2**32\n",
    "plt.style.use('dark_background')\n",
    "\n",
    "sys.path.insert(0, os.path.join(os.getcwd()  , '..', '..', '..'))\n",
    "\n",
    "# dependencies\n",
    "if(os.path.isdir('waves-main')): #thebe\n",
    "    os.chdir('waves-main')\n",
    "from lib.analitic import *"
   ]
  },
  {
   "cell_type": "code",
   "execution_count": 4,
   "id": "323ac541-2a28-4248-b9ed-9b3482dc0943",
   "metadata": {},
   "outputs": [],
   "source": [
    "if(os.path.isdir('data')):\n",
    "    p_data = op.abspath(op.join(os.getcwd(), 'data')) # thebe\n",
    "else:\n",
    "    p_data = op.abspath(op.join(os.getcwd(),'..', '..', '..', 'data')) # notebook"
   ]
  },
  {
   "cell_type": "markdown",
   "id": "bc6aaa7e",
   "metadata": {
    "slideshow": {
     "slide_type": "slide"
    }
   },
   "source": [
    "## definimos las ecuaciones / variables"
   ]
  },
  {
   "cell_type": "code",
   "execution_count": 3,
   "id": "814fbe2d",
   "metadata": {
    "slideshow": {
     "slide_type": "subslide"
    }
   },
   "outputs": [],
   "source": [
    "# load all the symbols\n",
    "k, r, pi, alpha, theta = symbols('k r pi alpha theta')\n",
    "lambdaa = symbols('lambda')\n",
    "\n",
    "# we first define the K_d function\n",
    "K_d = Function('K_d')(k,r,alpha,theta)\n",
    "# but also other important functions\n",
    "C = Function('C')(lambdaa)\n",
    "C = integrate(cos(pi*lambdaa**2/2),(lambdaa,0,lambdaa))\n",
    "S = Function('S')(lambdaa)\n",
    "S = integrate(sin(pi*lambdaa**2/2),(lambdaa,0,lambdaa))\n",
    "I_l = Function('I')(lambdaa)\n",
    "I_l = (1+C+S)/2 + I*(C-S)/2"
   ]
  },
  {
   "cell_type": "code",
   "execution_count": 4,
   "id": "7d86ccfe",
   "metadata": {
    "slideshow": {
     "slide_type": "subslide"
    }
   },
   "outputs": [
    {
     "data": {
      "text/latex": [
       "$\\displaystyle \\operatorname{K_{d}}{\\left(k,r,\\alpha,\\theta \\right)}$"
      ],
      "text/plain": [
       "K_d(k, r, alpha, theta)"
      ]
     },
     "execution_count": 4,
     "metadata": {},
     "output_type": "execute_result"
    }
   ],
   "source": [
    "K_d"
   ]
  },
  {
   "cell_type": "code",
   "execution_count": 5,
   "id": "f7067041",
   "metadata": {
    "scrolled": true,
    "slideshow": {
     "slide_type": "fragment"
    }
   },
   "outputs": [
    {
     "data": {
      "text/latex": [
       "$\\displaystyle \\frac{i \\left(\\frac{\\sqrt{\\pi} C\\left(\\frac{\\lambda \\sqrt{\\pi}}{\\sqrt{\\pi}}\\right) \\Gamma\\left(\\frac{1}{4}\\right)}{4 \\sqrt{\\pi} \\Gamma\\left(\\frac{5}{4}\\right)} - \\frac{3 \\sqrt{\\pi} S\\left(\\frac{\\lambda \\sqrt{\\pi}}{\\sqrt{\\pi}}\\right) \\Gamma\\left(\\frac{3}{4}\\right)}{4 \\sqrt{\\pi} \\Gamma\\left(\\frac{7}{4}\\right)}\\right)}{2} + \\frac{1}{2} + \\frac{\\sqrt{\\pi} C\\left(\\frac{\\lambda \\sqrt{\\pi}}{\\sqrt{\\pi}}\\right) \\Gamma\\left(\\frac{1}{4}\\right)}{8 \\sqrt{\\pi} \\Gamma\\left(\\frac{5}{4}\\right)} + \\frac{3 \\sqrt{\\pi} S\\left(\\frac{\\lambda \\sqrt{\\pi}}{\\sqrt{\\pi}}\\right) \\Gamma\\left(\\frac{3}{4}\\right)}{8 \\sqrt{\\pi} \\Gamma\\left(\\frac{7}{4}\\right)}$"
      ],
      "text/plain": [
       "I*(sqrt(pi)*fresnelc(lambda*sqrt(pi)/sqrt(pi))*gamma(1/4)/(4*sqrt(pi)*gamma(5/4)) - 3*sqrt(pi)*fresnels(lambda*sqrt(pi)/sqrt(pi))*gamma(3/4)/(4*sqrt(pi)*gamma(7/4)))/2 + 1/2 + sqrt(pi)*fresnelc(lambda*sqrt(pi)/sqrt(pi))*gamma(1/4)/(8*sqrt(pi)*gamma(5/4)) + 3*sqrt(pi)*fresnels(lambda*sqrt(pi)/sqrt(pi))*gamma(3/4)/(8*sqrt(pi)*gamma(7/4))"
      ]
     },
     "execution_count": 5,
     "metadata": {},
     "output_type": "execute_result"
    }
   ],
   "source": [
    "I_l"
   ]
  },
  {
   "cell_type": "code",
   "execution_count": 6,
   "id": "39c0551c",
   "metadata": {
    "slideshow": {
     "slide_type": "fragment"
    }
   },
   "outputs": [
    {
     "data": {
      "text/latex": [
       "$\\displaystyle \\frac{\\sqrt{\\pi} C\\left(\\frac{\\lambda \\sqrt{\\pi}}{\\sqrt{\\pi}}\\right) \\Gamma\\left(\\frac{1}{4}\\right)}{4 \\sqrt{\\pi} \\Gamma\\left(\\frac{5}{4}\\right)}$"
      ],
      "text/plain": [
       "sqrt(pi)*fresnelc(lambda*sqrt(pi)/sqrt(pi))*gamma(1/4)/(4*sqrt(pi)*gamma(5/4))"
      ]
     },
     "execution_count": 6,
     "metadata": {},
     "output_type": "execute_result"
    }
   ],
   "source": [
    "C"
   ]
  },
  {
   "cell_type": "code",
   "execution_count": 7,
   "id": "c9257bd1",
   "metadata": {
    "slideshow": {
     "slide_type": "fragment"
    }
   },
   "outputs": [
    {
     "data": {
      "text/latex": [
       "$\\displaystyle \\frac{3 \\sqrt{\\pi} S\\left(\\frac{\\lambda \\sqrt{\\pi}}{\\sqrt{\\pi}}\\right) \\Gamma\\left(\\frac{3}{4}\\right)}{4 \\sqrt{\\pi} \\Gamma\\left(\\frac{7}{4}\\right)}$"
      ],
      "text/plain": [
       "3*sqrt(pi)*fresnels(lambda*sqrt(pi)/sqrt(pi))*gamma(3/4)/(4*sqrt(pi)*gamma(7/4))"
      ]
     },
     "execution_count": 7,
     "metadata": {},
     "output_type": "execute_result"
    }
   ],
   "source": [
    "S"
   ]
  },
  {
   "cell_type": "code",
   "execution_count": 8,
   "id": "169b2c67",
   "metadata": {
    "slideshow": {
     "slide_type": "subslide"
    }
   },
   "outputs": [],
   "source": [
    "K_d = abs(I_l.subs(lambdaa,-sqrt(4*k*r/pi)*sin((alpha-theta)/2))*exp(-I*k*r*cos(alpha-theta)) + \\\n",
    "          I_l.subs(lambdaa,-sqrt(4*k*r/pi)*sin((alpha+theta)/2))*exp(-I*k*r*cos(alpha+theta)))"
   ]
  },
  {
   "cell_type": "code",
   "execution_count": 9,
   "id": "f0d77802",
   "metadata": {
    "scrolled": true,
    "slideshow": {
     "slide_type": "fragment"
    }
   },
   "outputs": [
    {
     "data": {
      "text/latex": [
       "$\\displaystyle \\left|{\\left(\\frac{i \\left(- \\frac{\\sqrt{\\pi} C\\left(\\frac{2 \\sqrt{\\pi} \\sqrt{\\frac{k r}{\\pi}} \\sin{\\left(\\frac{\\alpha}{2} - \\frac{\\theta}{2} \\right)}}{\\sqrt{\\pi}}\\right) \\Gamma\\left(\\frac{1}{4}\\right)}{4 \\sqrt{\\pi} \\Gamma\\left(\\frac{5}{4}\\right)} + \\frac{3 \\sqrt{\\pi} S\\left(\\frac{2 \\sqrt{\\pi} \\sqrt{\\frac{k r}{\\pi}} \\sin{\\left(\\frac{\\alpha}{2} - \\frac{\\theta}{2} \\right)}}{\\sqrt{\\pi}}\\right) \\Gamma\\left(\\frac{3}{4}\\right)}{4 \\sqrt{\\pi} \\Gamma\\left(\\frac{7}{4}\\right)}\\right)}{2} + \\frac{1}{2} - \\frac{\\sqrt{\\pi} C\\left(\\frac{2 \\sqrt{\\pi} \\sqrt{\\frac{k r}{\\pi}} \\sin{\\left(\\frac{\\alpha}{2} - \\frac{\\theta}{2} \\right)}}{\\sqrt{\\pi}}\\right) \\Gamma\\left(\\frac{1}{4}\\right)}{8 \\sqrt{\\pi} \\Gamma\\left(\\frac{5}{4}\\right)} - \\frac{3 \\sqrt{\\pi} S\\left(\\frac{2 \\sqrt{\\pi} \\sqrt{\\frac{k r}{\\pi}} \\sin{\\left(\\frac{\\alpha}{2} - \\frac{\\theta}{2} \\right)}}{\\sqrt{\\pi}}\\right) \\Gamma\\left(\\frac{3}{4}\\right)}{8 \\sqrt{\\pi} \\Gamma\\left(\\frac{7}{4}\\right)}\\right) e^{- i k r \\cos{\\left(\\alpha - \\theta \\right)}} + \\left(\\frac{i \\left(- \\frac{\\sqrt{\\pi} C\\left(\\frac{2 \\sqrt{\\pi} \\sqrt{\\frac{k r}{\\pi}} \\sin{\\left(\\frac{\\alpha}{2} + \\frac{\\theta}{2} \\right)}}{\\sqrt{\\pi}}\\right) \\Gamma\\left(\\frac{1}{4}\\right)}{4 \\sqrt{\\pi} \\Gamma\\left(\\frac{5}{4}\\right)} + \\frac{3 \\sqrt{\\pi} S\\left(\\frac{2 \\sqrt{\\pi} \\sqrt{\\frac{k r}{\\pi}} \\sin{\\left(\\frac{\\alpha}{2} + \\frac{\\theta}{2} \\right)}}{\\sqrt{\\pi}}\\right) \\Gamma\\left(\\frac{3}{4}\\right)}{4 \\sqrt{\\pi} \\Gamma\\left(\\frac{7}{4}\\right)}\\right)}{2} + \\frac{1}{2} - \\frac{\\sqrt{\\pi} C\\left(\\frac{2 \\sqrt{\\pi} \\sqrt{\\frac{k r}{\\pi}} \\sin{\\left(\\frac{\\alpha}{2} + \\frac{\\theta}{2} \\right)}}{\\sqrt{\\pi}}\\right) \\Gamma\\left(\\frac{1}{4}\\right)}{8 \\sqrt{\\pi} \\Gamma\\left(\\frac{5}{4}\\right)} - \\frac{3 \\sqrt{\\pi} S\\left(\\frac{2 \\sqrt{\\pi} \\sqrt{\\frac{k r}{\\pi}} \\sin{\\left(\\frac{\\alpha}{2} + \\frac{\\theta}{2} \\right)}}{\\sqrt{\\pi}}\\right) \\Gamma\\left(\\frac{3}{4}\\right)}{8 \\sqrt{\\pi} \\Gamma\\left(\\frac{7}{4}\\right)}\\right) e^{- i k r \\cos{\\left(\\alpha + \\theta \\right)}}}\\right|$"
      ],
      "text/plain": [
       "Abs((I*(-sqrt(pi)*fresnelc(2*sqrt(pi)*sqrt(k*r/pi)*sin(alpha/2 - theta/2)/sqrt(pi))*gamma(1/4)/(4*sqrt(pi)*gamma(5/4)) + 3*sqrt(pi)*fresnels(2*sqrt(pi)*sqrt(k*r/pi)*sin(alpha/2 - theta/2)/sqrt(pi))*gamma(3/4)/(4*sqrt(pi)*gamma(7/4)))/2 + 1/2 - sqrt(pi)*fresnelc(2*sqrt(pi)*sqrt(k*r/pi)*sin(alpha/2 - theta/2)/sqrt(pi))*gamma(1/4)/(8*sqrt(pi)*gamma(5/4)) - 3*sqrt(pi)*fresnels(2*sqrt(pi)*sqrt(k*r/pi)*sin(alpha/2 - theta/2)/sqrt(pi))*gamma(3/4)/(8*sqrt(pi)*gamma(7/4)))*exp(-I*k*r*cos(alpha - theta)) + (I*(-sqrt(pi)*fresnelc(2*sqrt(pi)*sqrt(k*r/pi)*sin(alpha/2 + theta/2)/sqrt(pi))*gamma(1/4)/(4*sqrt(pi)*gamma(5/4)) + 3*sqrt(pi)*fresnels(2*sqrt(pi)*sqrt(k*r/pi)*sin(alpha/2 + theta/2)/sqrt(pi))*gamma(3/4)/(4*sqrt(pi)*gamma(7/4)))/2 + 1/2 - sqrt(pi)*fresnelc(2*sqrt(pi)*sqrt(k*r/pi)*sin(alpha/2 + theta/2)/sqrt(pi))*gamma(1/4)/(8*sqrt(pi)*gamma(5/4)) - 3*sqrt(pi)*fresnels(2*sqrt(pi)*sqrt(k*r/pi)*sin(alpha/2 + theta/2)/sqrt(pi))*gamma(3/4)/(8*sqrt(pi)*gamma(7/4)))*exp(-I*k*r*cos(alpha + theta)))"
      ]
     },
     "execution_count": 9,
     "metadata": {},
     "output_type": "execute_result"
    }
   ],
   "source": [
    "K_d"
   ]
  },
  {
   "cell_type": "markdown",
   "id": "d59ab10b",
   "metadata": {
    "slideshow": {
     "slide_type": "slide"
    }
   },
   "source": [
    "## definir coordenadas y parámetros"
   ]
  },
  {
   "cell_type": "code",
   "execution_count": 10,
   "id": "190567b8",
   "metadata": {
    "slideshow": {
     "slide_type": "fragment"
    }
   },
   "outputs": [],
   "source": [
    "# define polar coordinates\n",
    "from sympy.abc import x, y\n",
    "r = sqrt(x**2+y**2) # these are the polar coordinates\n",
    "alpha = np.pi/2 - atan(x/y)"
   ]
  },
  {
   "cell_type": "code",
   "execution_count": 11,
   "id": "7e37aabe",
   "metadata": {
    "slideshow": {
     "slide_type": "slide"
    }
   },
   "outputs": [],
   "source": [
    "# fixed parameters for the wave\n",
    "g_value = 9.8 # m / s^2\n",
    "T_value = 8 # seconds\n",
    "w_value = 2*np.pi/T_value\n",
    "h_value = 5 # depth (meters)\n",
    "# derived parameters for the wave\n",
    "k_value = w_value**2/g_value\n",
    "# waves.Waves(h_value,T=T_value).k # wave number\n",
    "l_value = 2*np.pi/k_value"
   ]
  },
  {
   "cell_type": "code",
   "execution_count": 12,
   "id": "21df6706",
   "metadata": {
    "scrolled": true,
    "slideshow": {
     "slide_type": "subslide"
    }
   },
   "outputs": [
    {
     "name": "stdout",
     "output_type": "stream",
     "text": [
      "Calculating K_diff in (800.0,1000.0) -- in meters- in meterss- in meterssss\r"
     ]
    }
   ],
   "source": [
    "# get diffraction coefficients for (x,y)\n",
    "x_range_nodes = (-400,800,50)\n",
    "y_range_nodes = (1,1000,50)\n",
    "k_diff = np.zeros((x_range_nodes[2],y_range_nodes[2]))\n",
    "\n",
    "for i,xs in enumerate(np.linspace(*x_range_nodes)):\n",
    "    \n",
    "    for j,ys in enumerate(np.linspace(*y_range_nodes)):\n",
    "            \n",
    "        print(f'Calculating K_diff in ({xs},{ys}) -- in meters', end='\\r')\n",
    "\n",
    "        k_diff[i,j] = float(\n",
    "            K_d.evalf(subs={\n",
    "                'k':k_value,'theta':np.pi/2,'pi':np.pi,\n",
    "                'r':r.evalf(subs={'x':xs,'y':ys}),\n",
    "                'alpha': alpha.evalf(subs={'x':xs,'y':ys}),\n",
    "            })\n",
    "        )\n",
    "        \n",
    "xr.Dataset(\n",
    "    {'K_diff':(('x','y'),k_diff)},\n",
    "    coords={'x':np.linspace(*x_range_nodes),\n",
    "            'y':np.linspace(*y_range_nodes)}\n",
    ").K_diff.to_netcdf(op.join(p_data, 'diff_coeffs_test.nc'))"
   ]
  },
  {
   "cell_type": "code",
   "execution_count": 13,
   "id": "c5242426",
   "metadata": {
    "slideshow": {
     "slide_type": "subslide"
    }
   },
   "outputs": [
    {
     "data": {
      "image/png": "[encoded data removed]",
      "text/plain": [
       "<Figure size 432x288 with 2 Axes>"
      ]
     },
     "metadata": {},
     "output_type": "display_data"
    }
   ],
   "source": [
    "xr.open_dataarray(op.join(p_data, 'diff_coeffs_test.nc')).plot()\n",
    "plt.show()"
   ]
  },
  {
   "cell_type": "code",
   "execution_count": 6,
   "id": "a85ca753",
   "metadata": {
    "slideshow": {
     "slide_type": "subslide"
    }
   },
   "outputs": [
    {
     "data": {
      "text/html": [
       "<iframe\n",
       "    scrolling=\"no\"\n",
       "    width=\"100%\"\n",
       "    height=\"545px\"\n",
       "    src=\"iframe_figures/figure_6.html\"\n",
       "    frameborder=\"0\"\n",
       "    allowfullscreen\n",
       "></iframe>\n"
      ]
     },
     "metadata": {},
     "output_type": "display_data"
    }
   ],
   "source": [
    "fig = go.Figure(data=[\n",
    "    go.Surface(\n",
    "        z=xr.open_dataarray(op.join(p_data, 'diff_coeffs_test.nc')).to_dataframe().values.reshape(50,50).T,\n",
    "        colorscale='jet',cmin=0.2,cmax=1.3\n",
    "    ),\n",
    "    go.Surface(\n",
    "        z=np.ones((50,50)),showscale=False,colorscale='earth',opacity=0.6\n",
    "    )\n",
    "])\n",
    "fig.show()           "
   ]
  },
  {
   "cell_type": "code",
   "execution_count": null,
   "id": "93aeeaed-e7fc-41e1-86e0-5cb52633e8ff",
   "metadata": {},
   "outputs": [],
   "source": []
  }
 ],
 "metadata": {
  "celltoolbar": "Slideshow",
  "kernelspec": {
   "display_name": "Python 3 (ipykernel)",
   "language": "python",
   "name": "python3"
  },
  "language_info": {
   "codemirror_mode": {
    "name": "ipython",
    "version": 3
   },
   "file_extension": ".py",
   "mimetype": "text/x-python",
   "name": "python",
   "nbconvert_exporter": "python",
   "pygments_lexer": "ipython3",
   "version": "3.7.11"
  }
 },
 "nbformat": 4,
 "nbformat_minor": 5
}
